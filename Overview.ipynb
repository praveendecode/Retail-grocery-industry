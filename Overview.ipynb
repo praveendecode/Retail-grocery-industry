{
  "nbformat": 4,
  "nbformat_minor": 0,
  "metadata": {
    "colab": {
      "provenance": [],
      "collapsed_sections": [
        "8NBPvpTLkB1O",
        "lSDdk9QQApQL",
        "wMvR5u8QNQNb",
        "SUiGZjCWwQOv"
      ]
    },
    "kernelspec": {
      "name": "python3",
      "display_name": "Python 3"
    },
    "language_info": {
      "name": "python"
    }
  },
  "cells": [
    {
      "cell_type": "markdown",
      "source": [
        "**Task Data  [Click](https://drive.google.com/drive/folders/1YY9TQr-uI4OtwVYOfACGzh2buIM-nd3y?usp=sharing)**"
      ],
      "metadata": {
        "id": "IrHHUe0A_a7d"
      }
    },
    {
      "cell_type": "markdown",
      "source": [
        "# **Task 1 : Exploratory Data Analysis**"
      ],
      "metadata": {
        "id": "8NBPvpTLkB1O"
      }
    },
    {
      "cell_type": "markdown",
      "source": [
        "**Overview Of Task**"
      ],
      "metadata": {
        "id": "IzZw47Ubnx2K"
      }
    },
    {
      "cell_type": "markdown",
      "source": [
        "\n",
        "\n",
        "```\n",
        "# Gala Groceries, a tech-savvy US grocery chain, partners with Cognizant to tackle perishable item stocking challenges.\n",
        "\n",
        "# Data-driven insights are essential to optimize stock levels and minimize waste while meeting customer demand.\n",
        "\n",
        "# A pending email to the Data Science team leader will summarize findings and outline further data needs.\n",
        "```\n",
        "\n"
      ],
      "metadata": {
        "id": "eiDYXzISn1FP"
      }
    },
    {
      "cell_type": "markdown",
      "source": [
        "### **EDA [Click](https://colab.research.google.com/drive/1iZyBW0iJk1ym-ms1KUS-mpgOc9ng5UHa?usp=sharing)**"
      ],
      "metadata": {
        "id": "MnWjciN3zIcg"
      }
    },
    {
      "cell_type": "markdown",
      "source": [
        "# **Task 2 : Data Modelling**"
      ],
      "metadata": {
        "id": "lSDdk9QQApQL"
      }
    },
    {
      "cell_type": "markdown",
      "source": [
        "**Underatnd Data Model Diagram [Click](https://docs.google.com/document/d/19SUY-j1o4UYBqEi4hqIereVjx9fZliND/edit?usp=sharing&ouid=101321301050382286839&rtpof=true&sd=true)**\n",
        "\n"
      ],
      "metadata": {
        "id": "49vX5Ld-DEQk"
      }
    },
    {
      "cell_type": "markdown",
      "source": [
        "### **strategic plan [Click](https://docs.google.com/presentation/d/1gdQeEusbIM9n4OHk5OM36qYlyOUwyuXO/edit?usp=sharing&ouid=101321301050382286839&rtpof=true&sd=true)**"
      ],
      "metadata": {
        "id": "-dhgsdP2J1Tu"
      }
    },
    {
      "cell_type": "markdown",
      "source": [
        "# **Task 3: Model Building and Interpretation**"
      ],
      "metadata": {
        "id": "wMvR5u8QNQNb"
      }
    },
    {
      "cell_type": "markdown",
      "source": [
        "## **Model [Click](https://colab.research.google.com/drive/1FJ92m8WkvL7ErKMqeeZ33ercBQ6CUGFM?usp=sharing)**"
      ],
      "metadata": {
        "id": "a6qbeRBaryjd"
      }
    },
    {
      "cell_type": "markdown",
      "source": [
        "## **Report [Click](https://docs.google.com/presentation/d/1oAgpAD39w-uR1rhyNV-P2lzxSQ5TScpn/edit?usp=sharing&ouid=101321301050382286839&rtpof=true&sd=true)**"
      ],
      "metadata": {
        "id": "EFiCZaXRr5u0"
      }
    },
    {
      "cell_type": "markdown",
      "source": [
        "# **Task 4: Machine Learning Production**"
      ],
      "metadata": {
        "id": "SUiGZjCWwQOv"
      }
    },
    {
      "cell_type": "markdown",
      "source": [
        "## **ML Model Production Code File  [Click](https://colab.research.google.com/drive/1SoAWm2j_gYprI8eKgBx7xwF5TF7XQahY?usp=sharing)**"
      ],
      "metadata": {
        "id": "25mXXKbl6JRy"
      }
    }
  ]
}
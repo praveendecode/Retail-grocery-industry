{
  "nbformat": 4,
  "nbformat_minor": 0,
  "metadata": {
    "colab": {
      "provenance": []
    },
    "kernelspec": {
      "name": "python3",
      "display_name": "Python 3"
    },
    "language_info": {
      "name": "python"
    }
  },
  "cells": [
    {
      "cell_type": "code",
      "execution_count": null,
      "metadata": {
        "id": "hBMqGmQ_y2Qs"
      },
      "outputs": [],
      "source": [
        "import pandas as pd\n",
        "import numpy as np\n",
        "from sklearn.ensemble import RandomForestRegressor\n",
        "from sklearn.model_selection import train_test_split\n",
        "from sklearn.metrics import r2_score\n",
        "from sklearn.preprocessing import OrdinalEncoder\n",
        "\n",
        "def Model_production(path):\n",
        "\n",
        "  # read csv file\n",
        "\n",
        "  df = pd.read_csv(path)\n",
        "\n",
        "  if 'Unnamed: 0' in df.columns:\n",
        "    df.drop('Unnamed: 0',axis=1,inplace=True)\n",
        "\n",
        "  # Encode the categorical features\n",
        "\n",
        "  encoder = OrdinalEncoder()\n",
        "\n",
        "  df['category'] = encoder.fit_transform(df['category'].values.reshape(-1,1))\n",
        "\n",
        "  df.drop('product_id',axis=1,inplace=True)\n",
        "\n",
        "  # Split Data\n",
        "\n",
        "  x =  df.drop('estimated_stock_pct',axis=1)\n",
        "  y =  df['estimated_stock_pct']\n",
        "\n",
        "  # Cross validation values\n",
        "\n",
        "  k = int(input('Enter the K value :'))\n",
        "\n",
        "  split = float(input('Enter the test data percentage from 0.2 to 0.3 : '))\n",
        "\n",
        "  accuracy_values = []\n",
        "\n",
        "  # K times cross validation\n",
        "  for i in range(k) :\n",
        "\n",
        "    xtrain,xtest,ytrain,ytest = train_test_split(x,y,test_size=split)\n",
        "\n",
        "    # Model Train\n",
        "\n",
        "    model = RandomForestRegressor().fit(xtrain,ytrain)\n",
        "\n",
        "    # Prediction\n",
        "\n",
        "    y_pred = model.predict(xtest)\n",
        "\n",
        "    # Accuracy\n",
        "\n",
        "    acc = r2_score(ytest,y_pred)\n",
        "\n",
        "    accuracy_values.append(acc)\n",
        "\n",
        "\n",
        "    print(f'Fold {i+1} : R2 Score = {acc}')\n",
        "\n",
        "  print(f'Average R2 Score : {sum(accuracy_values)/len(accuracy_values)}')"
      ]
    }
  ]
}